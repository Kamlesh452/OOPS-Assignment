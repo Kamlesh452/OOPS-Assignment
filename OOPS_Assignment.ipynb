{
  "nbformat": 4,
  "nbformat_minor": 0,
  "metadata": {
    "colab": {
      "provenance": []
    },
    "kernelspec": {
      "name": "python3",
      "display_name": "Python 3"
    },
    "language_info": {
      "name": "python"
    }
  },
  "cells": [
    {
      "cell_type": "markdown",
      "source": [
        "# Python OOPs Questions"
      ],
      "metadata": {
        "id": "o6QZjPjiyB7A"
      }
    },
    {
      "cell_type": "markdown",
      "source": [
        "1. What is Object-Oriented Programming (OOP)?\n",
        "   >>>Object-Oriented Programming (OOP) is a programming paradigm based on the concept of objects, which can encapsulate data and behavior. OOP aims to structure software design by breaking it into reusable pieces, making code more modular, maintainable, and scalable"
      ],
      "metadata": {
        "id": "x3nbE02myGDF"
      }
    },
    {
      "cell_type": "markdown",
      "source": [
        "2. What is a class in OOP?\n",
        "   >>>In Object-Oriented Programming (OOP), a class is a blueprint or template for creating objects. It defines the structure and behavior that objects created from the class will have. A class encapsulates data (attributes) and functions (methods) that operate on that data, providing a modular and reusable structure."
      ],
      "metadata": {
        "id": "6m2aFKuHy0GE"
      }
    },
    {
      "cell_type": "markdown",
      "source": [
        "3. What is an object in OOP?\n",
        "   >>>In Object-Oriented Programming (OOP), an object is an instance of a class that encapsulates both data (attributes) and behavior (methods). Objects are the core building blocks of OOP and represent specific real-world entities or concepts."
      ],
      "metadata": {
        "id": "3PYNAGlCzLAK"
      }
    },
    {
      "cell_type": "markdown",
      "source": [
        "4. What is the difference between abstraction and encapsulation?\n",
        "   >>>Abstraction and encapsulation are two fundamental concepts in Object-Oriented Programming (OOP) that often complement each other but serve different purposes."
      ],
      "metadata": {
        "id": "W8bXb0ykzpqb"
      }
    },
    {
      "cell_type": "markdown",
      "source": [
        "5. What are dunder methods in Python?\n",
        "   >>>Dunder methods in Python, short for \"double underscore methods\" (also known as magic methods or special methods), are predefined methods in classes that have double underscores at the beginning and end of their names. These methods enable you to define the behavior of objects for built-in operations, making classes more intuitive and natural to use."
      ],
      "metadata": {
        "id": "ZUyFI9Ra0RCr"
      }
    },
    {
      "cell_type": "markdown",
      "source": [
        "6. Explain the concept of inheritance in OOP?\n",
        "   >>>Inheritance is a fundamental concept in Object-Oriented Programming (OOP) that allows a class (called the child class or subclass) to acquire the properties and behaviors of another class (called the parent class or superclass). It promotes code reuse, modularity, and hierarchical relationships among classes."
      ],
      "metadata": {
        "id": "SLc9_Qnv7GP2"
      }
    },
    {
      "cell_type": "markdown",
      "source": [
        "7. What is polymorphism in OOP?\n",
        "   >>>Polymorphism is a key concept in Object-Oriented Programming (OOP) that allows objects of different classes to be treated as objects of a common superclass. It enables one interface to be used for a general class of actions, promoting flexibility and reusability in code"
      ],
      "metadata": {
        "id": "SIdXfGa97e2u"
      }
    },
    {
      "cell_type": "markdown",
      "source": [
        "8. How is encapsulation achieved in Python?\n",
        "   >>>Encapsulation in Python is achieved by bundling the data (attributes) and methods (functions) that operate on the data into a single unit called a class. It is primarily used to restrict direct access to some of an object's components, thereby ensuring controlled access and protecting the integrity of the data."
      ],
      "metadata": {
        "id": "A7V9Zyui7zGZ"
      }
    },
    {
      "cell_type": "markdown",
      "source": [
        "9. What is a constructor in Python?\n",
        "   >>>A constructor in Python is a special method that is automatically called when an object of a class is created. Its primary purpose is to initialize the attributes of the object. In Python, the constructor is defined using the __init__ method."
      ],
      "metadata": {
        "id": "uPB7PlUK8NOR"
      }
    },
    {
      "cell_type": "markdown",
      "source": [
        "10. What are class and static methods in Python?\n",
        "    >>>In Python, class methods and static methods are two special types of methods that differ in how they interact with the class and its instances. They are defined using decorators, @classmethod and @staticmethod, respectively."
      ],
      "metadata": {
        "id": "HCfa-_N78caZ"
      }
    },
    {
      "cell_type": "markdown",
      "source": [
        "11. What is method overloading in Python?\n",
        "    >>>In Python, method overloading refers to defining multiple methods in the same class with the same name but different parameters. However, Python does not support method overloading in the traditional sense, as seen in some other programming languages like Java or C++. Instead, Python allows only one definition of a method with a given name in a class, and the most recent definition overwrites any previous ones?"
      ],
      "metadata": {
        "id": "lkwlp8BR8wn5"
      }
    },
    {
      "cell_type": "markdown",
      "source": [
        "12. What is method overriding in OOP?\n",
        "    >>>Method overriding in Object-Oriented Programming (OOP) occurs when a subclass provides a specific implementation for a method that is already defined in its parent class. The overridden method in the subclass has the same name, return type, and parameters as the method in the parent class."
      ],
      "metadata": {
        "id": "2ZzAvxot9Ggi"
      }
    },
    {
      "cell_type": "markdown",
      "source": [
        "13. What is a property decorator in Python?\n",
        "    >>>In Python, the @property decorator is used to define a method in a class that can be accessed like an attribute. It allows you to encapsulate the functionality of a getter method while providing the simplicity of accessing it as if it were an attribute. This is a common practice in Python to implement the concept of property-based access.\n",
        "\n"
      ],
      "metadata": {
        "id": "25oDcrtN9ekJ"
      }
    },
    {
      "cell_type": "markdown",
      "source": [
        "14. Why is polymorphism important in OOP?\n",
        "   >>>Polymorphism is a core concept in Object-Oriented Programming (OOP) that allows objects of different types to be treated as instances of a common superclass. It plays a crucial role in creating flexible and extensible code, enabling the design of systems that are easier to develop, maintain, and scale. Here’s why polymorphism is important in OOP."
      ],
      "metadata": {
        "id": "chtcu-Dl92Hq"
      }
    },
    {
      "cell_type": "markdown",
      "source": [
        "15. What is an abstract class in Python?\n",
        "    >>>An abstract class in Python is a class that cannot be instantiated directly and is designed to serve as a blueprint for other classes. It contains one or more abstract methods, which are methods that are declared but not implemented in the abstract class. Subclasses of the abstract class must implement these abstract methods, ensuring a consistent interface across all subclasses."
      ],
      "metadata": {
        "id": "rYDcviuh-KZ8"
      }
    },
    {
      "cell_type": "markdown",
      "source": [
        "16. What are the advantages of OOP?\n",
        "    >>>Object-Oriented Programming (OOP) offers several advantages that make it a popular paradigm for software development."
      ],
      "metadata": {
        "id": "PXr1FlLl9-6Q"
      }
    },
    {
      "cell_type": "markdown",
      "source": [
        "17. What is the difference between a class variable and an instance variable?\n",
        "    >>>The key difference between a class variable and an instance variable lies in their scope, behavior, and the way they are associated with a class and its instances.\n"
      ],
      "metadata": {
        "id": "sKLP8hbt-P6e"
      }
    },
    {
      "cell_type": "markdown",
      "source": [
        "18. What is multiple inheritance in Python?\n",
        "    >>>Multiple inheritance in Python refers to a feature where a class can inherit attributes and methods from more than one parent class. This allows a child class to combine and extend the functionality of multiple parent classes."
      ],
      "metadata": {
        "id": "QQ_JKoXW_Daj"
      }
    },
    {
      "cell_type": "markdown",
      "source": [
        "19.  Explain the purpose of ‘’__str__’ and ‘__repr__’ ‘ methods in Python?\n",
        "     >>>In Python, the __str__ and __repr__ methods are special or \"magic\" methods used to define how objects are represented as strings. They play a critical role in debugging, logging, and presenting information to users.\n",
        "\n"
      ],
      "metadata": {
        "id": "erG7WkY3_Vvh"
      }
    },
    {
      "cell_type": "markdown",
      "source": [
        "20. What is the significance of the ‘super()’ function in Python?\n",
        "    >>>The super() function in Python is used to call a method from a parent class in the context of a child class. It is particularly useful in inheritance scenarios to avoid explicitly naming the parent class and to ensure the method resolution order (MRO) is followed correctly."
      ],
      "metadata": {
        "id": "_Kpxa2Mv_zMp"
      }
    },
    {
      "cell_type": "markdown",
      "source": [
        "21. What is the significance of the __del__ method in Python?\n",
        "    >>>The __del__ method in Python is a special (magic) method that is called when an object is about to be destroyed. It is also referred to as the destructor method, as it is typically used to clean up resources such as closing files, releasing network connections, or freeing other resources when an object is no longer needed.\n",
        "\n"
      ],
      "metadata": {
        "id": "Wm5oL8q6ADJ2"
      }
    },
    {
      "cell_type": "markdown",
      "source": [
        "22. What is the difference between @staticmethod and @classmethod in Python?\n",
        "    >>>In Python, @staticmethod and @classmethod are decorators used to define special types of methods in a class. They determine how the method interacts with the class and its instances."
      ],
      "metadata": {
        "id": "VOZvQQzjARbm"
      }
    },
    {
      "cell_type": "markdown",
      "source": [
        "23. How does polymorphism work in Python with inheritance?\n",
        "    >>>Polymorphism in Python allows objects of different classes to be treated as objects of a common base class, especially in the context of inheritance. It enables a single interface to represent different underlying forms (data types or classes). This is a key concept in object-oriented programming that promotes flexibility and code reusability."
      ],
      "metadata": {
        "id": "oH7RqoZ-A6Q5"
      }
    },
    {
      "cell_type": "markdown",
      "source": [
        "24. What is method chaining in Python OOP?\n",
        "    >>>Method chaining in Python Object-Oriented Programming (OOP) refers to the practice of calling multiple methods on an object in a single statement. Each method returns the object itself (or a modified version of it), allowing the subsequent method calls to be applied in sequence."
      ],
      "metadata": {
        "id": "V_xwQJvsBSCa"
      }
    },
    {
      "cell_type": "markdown",
      "source": [
        "25. What is the purpose of the __call__ method in Python?\n",
        "    >>>The __call__ method in Python is a special method that allows an instance of a class to be called as if it were a function. When you define __call__ in a class, you enable objects of that class to be invoked directly using parentheses, just like calling a function. This can be useful for various scenarios, such as creating callable objects, implementing function-like behavior, or simplifying code design."
      ],
      "metadata": {
        "id": "WdZaHOf0BuJI"
      }
    },
    {
      "cell_type": "markdown",
      "source": [
        "# Practical Questions"
      ],
      "metadata": {
        "id": "OAeL7pLel2MZ"
      }
    },
    {
      "cell_type": "markdown",
      "source": [
        "1. Create a parent class Animal with a method speak() that prints a generic message. Create a child class Dog\n",
        "that overrides the speak() method to print \"Bark!\"."
      ],
      "metadata": {
        "id": "rRywA7Qpl4pJ"
      }
    },
    {
      "cell_type": "code",
      "source": [
        "class Animal:\n",
        "    def speak(self):\n",
        "        print(\"Generic animal sound\")\n",
        "\n",
        "class Dog(Animal):\n",
        "    def speak(self):\n",
        "        print(\"Bark!\")"
      ],
      "metadata": {
        "id": "YSr-qlkOmBCQ"
      },
      "execution_count": null,
      "outputs": []
    },
    {
      "cell_type": "markdown",
      "source": [
        "2. Write a program to create an abstract class Shape with a method area(). Derive classes Circle and Rectangle\n",
        "from it and implement the area() method in both."
      ],
      "metadata": {
        "id": "xHcQpW8CmezM"
      }
    },
    {
      "cell_type": "code",
      "source": [
        "from abc import ABC, abstractmethod\n",
        "\n",
        "class Shape(ABC):\n",
        "    @abstractmethod\n",
        "    def area(self):\n",
        "        pass"
      ],
      "metadata": {
        "id": "1DewqXifpqg3"
      },
      "execution_count": null,
      "outputs": []
    },
    {
      "cell_type": "markdown",
      "source": [
        "3. Implement a multi-level inheritance scenario where a class Vehicle has an attribute type. Derive a class Car\n",
        "and further derive a class ElectricCar that adds a battery attribute."
      ],
      "metadata": {
        "id": "3givumBTox_W"
      }
    },
    {
      "cell_type": "code",
      "source": [
        "from abc import ABC, abstractmethod\n",
        "\n",
        "class Vehicle(ABC):\n",
        "    def __init__(self, vehicle_type):\n",
        "        self.type = vehicle_type\n",
        "\n",
        "    @abstractmethod\n",
        "    def drive(self):\n",
        "        pass"
      ],
      "metadata": {
        "id": "At43-w5zo-rp"
      },
      "execution_count": null,
      "outputs": []
    },
    {
      "cell_type": "markdown",
      "source": [
        "4. Implement a multi-level inheritance scenario where a class Vehicle has an attribute type. Derive a class Car\n",
        "and further derive a class ElectricCar that adds a battery attribute."
      ],
      "metadata": {
        "id": "UpOzINnfpTY5"
      }
    },
    {
      "cell_type": "code",
      "source": [
        "from abc import ABC, abstractmethod\n",
        "\n",
        "class Vehicle(ABC):\n",
        "    def __init__(self, vehicle_type):\n",
        "        self.type = vehicle_type\n",
        "\n",
        "    @abstractmethod\n",
        "    def drive(self):\n",
        "        pass"
      ],
      "metadata": {
        "id": "-WXQ6OhzqdHt"
      },
      "execution_count": null,
      "outputs": []
    },
    {
      "cell_type": "markdown",
      "source": [
        "5. Write a program to demonstrate encapsulation by creating a class BankAccount with private attributes\n",
        "balance and methods to deposit, withdraw, and check balance.\n",
        "\n",
        "\n"
      ],
      "metadata": {
        "id": "3PYOf5rMq3To"
      }
    },
    {
      "cell_type": "code",
      "source": [
        "def withdraw(self, amount):\n",
        "        if amount > 0:\n",
        "            if amount <= self.__balance:\n",
        "                self.__balance -= amount\n",
        "                print(f\"Withdrawn: {amount}. Remaining balance: {self.__balance}\")\n",
        "            else:\n",
        "                print(\"Insufficient balance.\")\n",
        "        else:\n",
        "            print(\"Withdrawal amount must be positive.\")\n",
        "\n",
        "    def check_balance(self):\n",
        "        print(f\"Current balance: {self.__balance}\")\n"
      ],
      "metadata": {
        "id": "6r5of7JtrHnl"
      },
      "execution_count": null,
      "outputs": []
    },
    {
      "cell_type": "markdown",
      "source": [
        "6. Demonstrate runtime polymorphism using a method play() in a base class Instrument. Derive classes Guitar\n",
        "and Piano that implement their own version of play()."
      ],
      "metadata": {
        "id": "L3sw6Sn1rgpO"
      }
    },
    {
      "cell_type": "code",
      "source": [
        "class Instrument:\n",
        "    def play(self):\n",
        "        print(\"Generic instrument sound\")\n",
        "\n",
        "class Guitar(Instrument):\n",
        "    def play(self):\n",
        "        print(\"Guitar sound\")\n",
        "\n",
        "class Piano(Instrument):\n",
        "    def play(self):\n",
        "        print(\"Piano sound\")"
      ],
      "metadata": {
        "id": "77l5xT4wriqu"
      },
      "execution_count": null,
      "outputs": []
    },
    {
      "cell_type": "markdown",
      "source": [
        "7. Create a class MathOperations with a class method add_numbers() to add two numbers and a static\n",
        "method subtract_numbers() to subtract two numbers."
      ],
      "metadata": {
        "id": "Y3_5X847r-Co"
      }
    },
    {
      "cell_type": "code",
      "source": [
        "class MathOperations:\n",
        "    @classmethod\n",
        "    def add_numbers(cls, num1, num2):\n",
        "        return num1 + num2\n",
        "\n",
        "    @staticmethod\n",
        "    def subtract_numbers(num1, num2):\n",
        "        return num1 - num2"
      ],
      "metadata": {
        "id": "QwlH8jWoshJ0"
      },
      "execution_count": null,
      "outputs": []
    },
    {
      "cell_type": "markdown",
      "source": [
        "8. Implement a class Person with a class method to count the total number of persons created."
      ],
      "metadata": {
        "id": "QKE9tzV8sxJq"
      }
    },
    {
      "cell_type": "code",
      "source": [
        "class Person:\n",
        "    count = 0\n",
        "\n",
        "    def __init__(self):\n",
        "        Person.count += 1\n",
        "\n",
        "    @classmethod\n",
        "    def get_total_persons(cls):\n",
        "        return cls.count"
      ],
      "metadata": {
        "id": "Z6tepg8rtIRJ"
      },
      "execution_count": null,
      "outputs": []
    },
    {
      "cell_type": "markdown",
      "source": [
        "9. Write a class Fraction with attributes numerator and denominator. Override the str method to display the\n",
        "fraction as \"numerator/denominator\"."
      ],
      "metadata": {
        "id": "TXf3uYi3tQxM"
      }
    },
    {
      "cell_type": "code",
      "source": [
        "class Fraction:\n",
        "    def __init__(self, numerator, denominator):\n",
        "        if denominator == 0:\n",
        "            raise ValueError(\"Denominator cannot be zero.\")\n",
        "        self.numerator = numerator\n",
        "        self.denominator = denominator\n",
        "\n",
        "    def __str__(self):\n",
        "        return f\"{self.numerator}/{self.denominator}\""
      ],
      "metadata": {
        "id": "aNUTnL-3tdgl"
      },
      "execution_count": null,
      "outputs": []
    },
    {
      "cell_type": "markdown",
      "source": [
        "10. Demonstrate operator overloading by creating a class Vector and overriding the add method to add two\n",
        "vectors."
      ],
      "metadata": {
        "id": "_BhfaNLBtzTe"
      }
    },
    {
      "cell_type": "code",
      "source": [
        "class Vector:\n",
        "    def __init__(self, x, y):\n",
        "        self.x = x\n",
        "        self.y = y\n",
        "\n",
        "    def __add__(self, other):\n",
        "        if isinstance(other, Vector):\n",
        "            return Vector(self.x + other.x, self.y + other.y)\n",
        "        else:\n",
        "            raise TypeError(\"Operands must be of type Vector\")\n",
        "\n",
        "    def __str__(self):\n",
        "        return f\"Vector({self.x}, {self.y})\""
      ],
      "metadata": {
        "id": "avyDMfuYt8l1"
      },
      "execution_count": null,
      "outputs": []
    },
    {
      "cell_type": "markdown",
      "source": [
        "11. Create a class Person with attributes name and age. Add a method greet() that prints \"Hello, my name is\n",
        "{name} and I am {age} years old."
      ],
      "metadata": {
        "id": "Nq0mFA1IuJ4J"
      }
    },
    {
      "cell_type": "code",
      "source": [
        "class Person:\n",
        "    def __init__(self, name, age):\n",
        "        self.name = name\n",
        "        self.age = age"
      ],
      "metadata": {
        "id": "shjKvIxjucJU"
      },
      "execution_count": null,
      "outputs": []
    },
    {
      "cell_type": "markdown",
      "source": [
        "12. Implement a class Student with attributes name and grades. Create a method average_grade() to compute\n",
        "the average of the grades."
      ],
      "metadata": {
        "id": "caGizjJ4ug-v"
      }
    },
    {
      "cell_type": "code",
      "source": [
        "class Student:\n",
        "    def __init__(self, name, grades):\n",
        "        self.name = name\n",
        "        self.grades = grades"
      ],
      "metadata": {
        "id": "UDB4XU6Buoj7"
      },
      "execution_count": null,
      "outputs": []
    },
    {
      "cell_type": "markdown",
      "source": [
        "13. Create a class Rectangle with methods set_dimensions() to set the dimensions and area() to calculate the\n",
        "area.\n",
        "\n",
        "\n"
      ],
      "metadata": {
        "id": "NvN5uoJTu6sn"
      }
    },
    {
      "cell_type": "code",
      "source": [
        "class Rectangle:\n",
        "    def __init__(self, length, width):\n",
        "        self.length = length\n",
        "        self.width = width"
      ],
      "metadata": {
        "id": "AIyiY2-fu7-h"
      },
      "execution_count": null,
      "outputs": []
    },
    {
      "cell_type": "markdown",
      "source": [
        "14. Create a class Employee with a method calculate_salary() that computes the salary based on hours worked\n",
        "and hourly rate. Create a derived class Manager that adds a bonus to the salary."
      ],
      "metadata": {
        "id": "om3nXC76vAqx"
      }
    },
    {
      "cell_type": "code",
      "source": [
        "class Employee:\n",
        "    def __init__(self, name, hours_worked, hourly_rate):\n",
        "        self.name = name\n",
        "        self.hours_worked = hours_worked\n",
        "        self.hourly_rate = hourly_rate"
      ],
      "metadata": {
        "id": "GWLcTdZ2vNLk"
      },
      "execution_count": null,
      "outputs": []
    },
    {
      "cell_type": "markdown",
      "source": [
        "15. Create a class Product with attributes name, price, and quantity. Implement a method total_price() that\n",
        "calculates the total price of the product."
      ],
      "metadata": {
        "id": "FKifmpVcvdre"
      }
    },
    {
      "cell_type": "code",
      "source": [
        "class Product:\n",
        "    def __init__(self, name, price, quantity):\n",
        "        self.name = name\n",
        "        self.price = price\n",
        "        self.quantity = quantity"
      ],
      "metadata": {
        "id": "RAEUGiGBvmSt"
      },
      "execution_count": null,
      "outputs": []
    },
    {
      "cell_type": "markdown",
      "source": [
        "16. Create a class Animal with an abstract method sound(). Create two derived classes Cow and Sheep that\n",
        "implement the sound() method."
      ],
      "metadata": {
        "id": "kIEELJclvvaO"
      }
    },
    {
      "cell_type": "code",
      "source": [
        "from abc import ABC, abstractmethod\n",
        "\n",
        "class Animal(ABC):\n",
        "    @abstractmethod\n",
        "    def sound(self):\n",
        "        pass"
      ],
      "metadata": {
        "id": "SOSBjhazv0Bj"
      },
      "execution_count": null,
      "outputs": []
    },
    {
      "cell_type": "markdown",
      "source": [
        "17. Create a class Book with attributes title, author, and year_published. Add a method get_book_info() that\n",
        "returns a formatted string with the book's details.\n",
        "\n",
        "\n"
      ],
      "metadata": {
        "id": "MYMkW8NWwMsg"
      }
    },
    {
      "cell_type": "code",
      "source": [
        "class Book:\n",
        "    def __init__(self, title, author, year_published):\n",
        "        self.title = title\n",
        "        self.author = author\n",
        "        self.year_published = year_published"
      ],
      "metadata": {
        "id": "q3Ud8wHaw6Ni"
      },
      "execution_count": null,
      "outputs": []
    },
    {
      "cell_type": "markdown",
      "source": [
        "18. Create a class House with attributes address and price. Create a derived class Mansion that adds an\n",
        "attribute number_of_rooms."
      ],
      "metadata": {
        "id": "RaE_9NeEw7rp"
      }
    },
    {
      "cell_type": "code",
      "source": [
        "class House:\n",
        "    def __init__(self, address, price):\n",
        "        self.address = address\n",
        "        self.price = price"
      ],
      "metadata": {
        "id": "yAIK4CwGxDqY"
      },
      "execution_count": null,
      "outputs": []
    }
  ]
}